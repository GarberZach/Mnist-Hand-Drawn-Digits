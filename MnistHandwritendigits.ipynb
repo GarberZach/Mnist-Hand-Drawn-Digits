{
  "nbformat": 4,
  "nbformat_minor": 0,
  "metadata": {
    "colab": {
      "name": "MnistHandwritendigits.ipynb",
      "provenance": []
    },
    "kernelspec": {
      "name": "python3",
      "display_name": "Python 3"
    },
    "accelerator": "GPU"
  },
  "cells": [
    {
      "cell_type": "markdown",
      "metadata": {
        "id": "9GH0hpfWp4lA",
        "colab_type": "text"
      },
      "source": [
        "This machine learning program will be able to identify handwritten digits from the mnist data set"
      ]
    },
    {
      "cell_type": "code",
      "metadata": {
        "id": "88bYApt5qOFH",
        "colab_type": "code",
        "colab": {}
      },
      "source": [
        "import numpy as np\n",
        "import tensorflow as tf\n",
        "from tensorflow import keras\n",
        "from keras.utils import np_utils"
      ],
      "execution_count": 1,
      "outputs": []
    },
    {
      "cell_type": "markdown",
      "metadata": {
        "id": "x2mB2iJSqZD_",
        "colab_type": "text"
      },
      "source": [
        "Data:"
      ]
    },
    {
      "cell_type": "code",
      "metadata": {
        "id": "mZOHPjkhqaT7",
        "colab_type": "code",
        "colab": {
          "base_uri": "https://localhost:8080/",
          "height": 82
        },
        "outputId": "d9b478dd-a3d9-4aca-f159-c062656aa36b"
      },
      "source": [
        "(X_train, Y_train), (X_test, Y_test) = tf.keras.datasets.mnist.load_data(path='mnist.npz')\n",
        "\n",
        "X_train = X_train.reshape(60000, 784) # reshape 60,000 28 x 28 matrices into 60,000 784-length vectors.\n",
        "X_test = X_test.reshape(10000, 784)   # reshape 10,000 28 x 28 matrices into 10,000 784-length vectors.\n",
        "\n",
        "X_train = X_train.astype('float32')   # change integers to 32-bit floating point numbers\n",
        "X_test = X_test.astype('float32')\n",
        "\n",
        "X_train /= 255                        # normalize each value for each pixel for the entire vector for each input\n",
        "X_test /= 255\n",
        "\n",
        "print(\"Training matrix shape\", X_train.shape)\n",
        "print(\"Testing matrix shape\", X_test.shape)"
      ],
      "execution_count": 2,
      "outputs": [
        {
          "output_type": "stream",
          "text": [
            "Downloading data from https://storage.googleapis.com/tensorflow/tf-keras-datasets/mnist.npz\n",
            "11493376/11490434 [==============================] - 0s 0us/step\n",
            "Training matrix shape (60000, 784)\n",
            "Testing matrix shape (10000, 784)\n"
          ],
          "name": "stdout"
        }
      ]
    },
    {
      "cell_type": "code",
      "metadata": {
        "id": "rs5wxwLLuPTi",
        "colab_type": "code",
        "colab": {}
      },
      "source": [
        "nb_classes = 10 # number of unique digits\n",
        "\n",
        "Y_train = np_utils.to_categorical(Y_train, nb_classes)\n",
        "Y_test = np_utils.to_categorical(Y_test, nb_classes)"
      ],
      "execution_count": 3,
      "outputs": []
    },
    {
      "cell_type": "markdown",
      "metadata": {
        "id": "uBZeb-5Hs6MX",
        "colab_type": "text"
      },
      "source": [
        "Initialize Model and Layers (Dense)\n"
      ]
    },
    {
      "cell_type": "code",
      "metadata": {
        "id": "6gaD-bHCs-eV",
        "colab_type": "code",
        "colab": {}
      },
      "source": [
        "from keras.models import Sequential\n",
        "from keras.layers import Dense\n",
        "classifier = Sequential()"
      ],
      "execution_count": 4,
      "outputs": []
    },
    {
      "cell_type": "code",
      "metadata": {
        "id": "LVWvuHbmtKPQ",
        "colab_type": "code",
        "colab": {}
      },
      "source": [
        "classifier.add(Dense(units = 16, input_shape = (784,), use_bias= True, bias_initializer='zeros', activation= 'relu'))\n",
        "classifier.add(Dense(units = 16, use_bias= True, bias_initializer= \"zeros\", activation= 'relu'))\n",
        "classifier.add(Dense(10, activation = \"softmax\"))\n",
        "\n"
      ],
      "execution_count": 5,
      "outputs": []
    },
    {
      "cell_type": "markdown",
      "metadata": {
        "id": "Fol2eOuIww8u",
        "colab_type": "text"
      },
      "source": [
        "optimizer and loss function"
      ]
    },
    {
      "cell_type": "code",
      "metadata": {
        "id": "lC77boCgw0Lm",
        "colab_type": "code",
        "colab": {}
      },
      "source": [
        "classifier.compile(loss='categorical_crossentropy', optimizer='adam', metrics=['accuracy'])"
      ],
      "execution_count": 6,
      "outputs": []
    },
    {
      "cell_type": "markdown",
      "metadata": {
        "id": "9YK4UHEj7lB3",
        "colab_type": "text"
      },
      "source": [
        "train using data"
      ]
    },
    {
      "cell_type": "code",
      "metadata": {
        "id": "uL1XSYXT7tIu",
        "colab_type": "code",
        "colab": {
          "base_uri": "https://localhost:8080/",
          "height": 196
        },
        "outputId": "dce3604d-5d0d-4d71-cf39-046d5ad39ed8"
      },
      "source": [
        "classifier.fit(X_train, Y_train, batch_size= 128 , epochs = 5, verbose=1)"
      ],
      "execution_count": 7,
      "outputs": [
        {
          "output_type": "stream",
          "text": [
            "Epoch 1/5\n",
            "469/469 [==============================] - 1s 2ms/step - loss: 0.7057 - accuracy: 0.7819\n",
            "Epoch 2/5\n",
            "469/469 [==============================] - 1s 2ms/step - loss: 0.2852 - accuracy: 0.9175\n",
            "Epoch 3/5\n",
            "469/469 [==============================] - 1s 2ms/step - loss: 0.2458 - accuracy: 0.9297\n",
            "Epoch 4/5\n",
            "469/469 [==============================] - 1s 2ms/step - loss: 0.2205 - accuracy: 0.9370\n",
            "Epoch 5/5\n",
            "469/469 [==============================] - 1s 2ms/step - loss: 0.2041 - accuracy: 0.9403\n"
          ],
          "name": "stdout"
        },
        {
          "output_type": "execute_result",
          "data": {
            "text/plain": [
              "<tensorflow.python.keras.callbacks.History at 0x7f47303b1fd0>"
            ]
          },
          "metadata": {
            "tags": []
          },
          "execution_count": 7
        }
      ]
    },
    {
      "cell_type": "markdown",
      "metadata": {
        "id": "yVRvjG9qvn9Q",
        "colab_type": "text"
      },
      "source": [
        "Test:"
      ]
    },
    {
      "cell_type": "code",
      "metadata": {
        "id": "3uexFyUOvnKb",
        "colab_type": "code",
        "colab": {
          "base_uri": "https://localhost:8080/",
          "height": 50
        },
        "outputId": "3db08251-6d04-4374-b147-0d32d4560577"
      },
      "source": [
        "#Y_pred = classifier.predict(X_test)\n",
        "#print(Y_pred)\n",
        "\n",
        "score = classifier.evaluate(X_test, Y_test)\n",
        "print('loss: acc: ', score)"
      ],
      "execution_count": 8,
      "outputs": [
        {
          "output_type": "stream",
          "text": [
            "313/313 [==============================] - 1s 2ms/step - loss: 0.2001 - accuracy: 0.9393\n",
            "loss: acc:  [0.20013965666294098, 0.939300000667572]\n"
          ],
          "name": "stdout"
        }
      ]
    }
  ]
}